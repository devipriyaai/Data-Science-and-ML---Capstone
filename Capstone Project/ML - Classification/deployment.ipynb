{
 "cells": [
  {
   "cell_type": "code",
   "execution_count": 1,
   "id": "48ba7b48-72d8-46e4-879c-aa2088a4c764",
   "metadata": {},
   "outputs": [],
   "source": [
    "import pickle"
   ]
  },
  {
   "cell_type": "code",
   "execution_count": 3,
   "id": "75372702-f57e-4e56-9979-7d93398893b5",
   "metadata": {},
   "outputs": [],
   "source": [
    "filename = \"Finalaized_model_LogisticClassifier-Grid.sav\""
   ]
  },
  {
   "cell_type": "code",
   "execution_count": 5,
   "id": "b1781c66-0d36-4cb9-9c62-0e25bf524ef4",
   "metadata": {},
   "outputs": [],
   "source": [
    "loaded_model = pickle.load(open(\"Finalaized_model_LogisticClassifier-Grid.sav\",'rb'))"
   ]
  },
  {
   "cell_type": "code",
   "execution_count": 7,
   "id": "55000e66-64a8-4cae-b0d7-c5b24d1d95d1",
   "metadata": {},
   "outputs": [],
   "source": [
    "result = loaded_model.predict([[30,1234.5,20.4,32,45.6,78.5,32,12.5,43.6,12,20.4]])"
   ]
  },
  {
   "cell_type": "code",
   "execution_count": 9,
   "id": "91e3a1da-66b5-4015-b371-0695eacf72b2",
   "metadata": {},
   "outputs": [
    {
     "data": {
      "text/plain": [
       "array([1], dtype=int64)"
      ]
     },
     "execution_count": 9,
     "metadata": {},
     "output_type": "execute_result"
    }
   ],
   "source": [
    "result"
   ]
  },
  {
   "cell_type": "code",
   "execution_count": null,
   "id": "c6b7427e-ffcb-4223-98dd-957cb6d2dae1",
   "metadata": {},
   "outputs": [],
   "source": []
  }
 ],
 "metadata": {
  "kernelspec": {
   "display_name": "Python [conda env:base] *",
   "language": "python",
   "name": "conda-base-py"
  },
  "language_info": {
   "codemirror_mode": {
    "name": "ipython",
    "version": 3
   },
   "file_extension": ".py",
   "mimetype": "text/x-python",
   "name": "python",
   "nbconvert_exporter": "python",
   "pygments_lexer": "ipython3",
   "version": "3.12.7"
  }
 },
 "nbformat": 4,
 "nbformat_minor": 5
}
