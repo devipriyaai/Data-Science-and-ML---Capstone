{
 "cells": [
  {
   "cell_type": "code",
   "execution_count": 1,
   "id": "d0510414-aadf-4809-ad26-3b36d8e25e72",
   "metadata": {},
   "outputs": [],
   "source": [
    "import pandas as pd\n",
    "import numpy as np\n",
    "import matplotlib.pyplot as plt\n",
    "import seaborn as sns\n",
    "import warnings\n",
    "warnings.filterwarnings(\"ignore\")"
   ]
  },
  {
   "cell_type": "code",
   "execution_count": 2,
   "id": "4267bbc5-cc48-43dd-92c6-28447eea5f3e",
   "metadata": {},
   "outputs": [],
   "source": [
    "dataset=pd.read_csv(\"preprocessed_Rainfall_dataset.csv\")"
   ]
  },
  {
   "cell_type": "code",
   "execution_count": 3,
   "id": "cb82dbad-e42a-45a8-8154-ade82c521dae",
   "metadata": {},
   "outputs": [
    {
     "data": {
      "text/html": [
       "<div>\n",
       "<style scoped>\n",
       "    .dataframe tbody tr th:only-of-type {\n",
       "        vertical-align: middle;\n",
       "    }\n",
       "\n",
       "    .dataframe tbody tr th {\n",
       "        vertical-align: top;\n",
       "    }\n",
       "\n",
       "    .dataframe thead th {\n",
       "        text-align: right;\n",
       "    }\n",
       "</style>\n",
       "<table border=\"1\" class=\"dataframe\">\n",
       "  <thead>\n",
       "    <tr style=\"text-align: right;\">\n",
       "      <th></th>\n",
       "      <th>day</th>\n",
       "      <th>pressure</th>\n",
       "      <th>maxtemp</th>\n",
       "      <th>temparature</th>\n",
       "      <th>mintemp</th>\n",
       "      <th>dewpoint</th>\n",
       "      <th>humidity</th>\n",
       "      <th>cloud</th>\n",
       "      <th>rainfall</th>\n",
       "      <th>sunshine</th>\n",
       "      <th>winddirection</th>\n",
       "      <th>windspeed</th>\n",
       "    </tr>\n",
       "  </thead>\n",
       "  <tbody>\n",
       "    <tr>\n",
       "      <th>0</th>\n",
       "      <td>1</td>\n",
       "      <td>1025.9</td>\n",
       "      <td>19.9</td>\n",
       "      <td>18.3</td>\n",
       "      <td>16.8</td>\n",
       "      <td>13.1</td>\n",
       "      <td>72</td>\n",
       "      <td>49</td>\n",
       "      <td>yes</td>\n",
       "      <td>9.3</td>\n",
       "      <td>80.0</td>\n",
       "      <td>26.3</td>\n",
       "    </tr>\n",
       "    <tr>\n",
       "      <th>1</th>\n",
       "      <td>2</td>\n",
       "      <td>1022.0</td>\n",
       "      <td>21.7</td>\n",
       "      <td>18.9</td>\n",
       "      <td>17.2</td>\n",
       "      <td>15.6</td>\n",
       "      <td>81</td>\n",
       "      <td>83</td>\n",
       "      <td>yes</td>\n",
       "      <td>0.6</td>\n",
       "      <td>50.0</td>\n",
       "      <td>15.3</td>\n",
       "    </tr>\n",
       "    <tr>\n",
       "      <th>2</th>\n",
       "      <td>3</td>\n",
       "      <td>1019.7</td>\n",
       "      <td>20.3</td>\n",
       "      <td>19.3</td>\n",
       "      <td>18.0</td>\n",
       "      <td>18.4</td>\n",
       "      <td>95</td>\n",
       "      <td>91</td>\n",
       "      <td>yes</td>\n",
       "      <td>0.0</td>\n",
       "      <td>40.0</td>\n",
       "      <td>14.2</td>\n",
       "    </tr>\n",
       "    <tr>\n",
       "      <th>3</th>\n",
       "      <td>4</td>\n",
       "      <td>1018.9</td>\n",
       "      <td>22.3</td>\n",
       "      <td>20.6</td>\n",
       "      <td>19.1</td>\n",
       "      <td>18.8</td>\n",
       "      <td>90</td>\n",
       "      <td>88</td>\n",
       "      <td>yes</td>\n",
       "      <td>1.0</td>\n",
       "      <td>50.0</td>\n",
       "      <td>16.9</td>\n",
       "    </tr>\n",
       "    <tr>\n",
       "      <th>4</th>\n",
       "      <td>5</td>\n",
       "      <td>1015.9</td>\n",
       "      <td>21.3</td>\n",
       "      <td>20.7</td>\n",
       "      <td>20.2</td>\n",
       "      <td>19.9</td>\n",
       "      <td>95</td>\n",
       "      <td>81</td>\n",
       "      <td>yes</td>\n",
       "      <td>0.0</td>\n",
       "      <td>40.0</td>\n",
       "      <td>13.7</td>\n",
       "    </tr>\n",
       "    <tr>\n",
       "      <th>...</th>\n",
       "      <td>...</td>\n",
       "      <td>...</td>\n",
       "      <td>...</td>\n",
       "      <td>...</td>\n",
       "      <td>...</td>\n",
       "      <td>...</td>\n",
       "      <td>...</td>\n",
       "      <td>...</td>\n",
       "      <td>...</td>\n",
       "      <td>...</td>\n",
       "      <td>...</td>\n",
       "      <td>...</td>\n",
       "    </tr>\n",
       "    <tr>\n",
       "      <th>361</th>\n",
       "      <td>27</td>\n",
       "      <td>1022.7</td>\n",
       "      <td>18.8</td>\n",
       "      <td>17.7</td>\n",
       "      <td>16.9</td>\n",
       "      <td>15.0</td>\n",
       "      <td>84</td>\n",
       "      <td>90</td>\n",
       "      <td>yes</td>\n",
       "      <td>0.0</td>\n",
       "      <td>30.0</td>\n",
       "      <td>18.4</td>\n",
       "    </tr>\n",
       "    <tr>\n",
       "      <th>362</th>\n",
       "      <td>28</td>\n",
       "      <td>1026.6</td>\n",
       "      <td>18.6</td>\n",
       "      <td>17.3</td>\n",
       "      <td>16.3</td>\n",
       "      <td>12.8</td>\n",
       "      <td>75</td>\n",
       "      <td>85</td>\n",
       "      <td>yes</td>\n",
       "      <td>1.0</td>\n",
       "      <td>20.0</td>\n",
       "      <td>25.9</td>\n",
       "    </tr>\n",
       "    <tr>\n",
       "      <th>363</th>\n",
       "      <td>29</td>\n",
       "      <td>1025.9</td>\n",
       "      <td>18.9</td>\n",
       "      <td>17.7</td>\n",
       "      <td>16.4</td>\n",
       "      <td>13.3</td>\n",
       "      <td>75</td>\n",
       "      <td>78</td>\n",
       "      <td>yes</td>\n",
       "      <td>4.6</td>\n",
       "      <td>70.0</td>\n",
       "      <td>33.4</td>\n",
       "    </tr>\n",
       "    <tr>\n",
       "      <th>364</th>\n",
       "      <td>30</td>\n",
       "      <td>1025.3</td>\n",
       "      <td>19.2</td>\n",
       "      <td>17.3</td>\n",
       "      <td>15.2</td>\n",
       "      <td>13.3</td>\n",
       "      <td>78</td>\n",
       "      <td>86</td>\n",
       "      <td>yes</td>\n",
       "      <td>1.2</td>\n",
       "      <td>20.0</td>\n",
       "      <td>20.9</td>\n",
       "    </tr>\n",
       "    <tr>\n",
       "      <th>365</th>\n",
       "      <td>31</td>\n",
       "      <td>1026.4</td>\n",
       "      <td>20.5</td>\n",
       "      <td>17.8</td>\n",
       "      <td>15.5</td>\n",
       "      <td>13.0</td>\n",
       "      <td>74</td>\n",
       "      <td>66</td>\n",
       "      <td>no</td>\n",
       "      <td>5.7</td>\n",
       "      <td>20.0</td>\n",
       "      <td>23.3</td>\n",
       "    </tr>\n",
       "  </tbody>\n",
       "</table>\n",
       "<p>366 rows × 12 columns</p>\n",
       "</div>"
      ],
      "text/plain": [
       "     day  pressure  maxtemp  temparature  mintemp  dewpoint  humidity  cloud  \\\n",
       "0      1    1025.9     19.9         18.3     16.8      13.1        72     49   \n",
       "1      2    1022.0     21.7         18.9     17.2      15.6        81     83   \n",
       "2      3    1019.7     20.3         19.3     18.0      18.4        95     91   \n",
       "3      4    1018.9     22.3         20.6     19.1      18.8        90     88   \n",
       "4      5    1015.9     21.3         20.7     20.2      19.9        95     81   \n",
       "..   ...       ...      ...          ...      ...       ...       ...    ...   \n",
       "361   27    1022.7     18.8         17.7     16.9      15.0        84     90   \n",
       "362   28    1026.6     18.6         17.3     16.3      12.8        75     85   \n",
       "363   29    1025.9     18.9         17.7     16.4      13.3        75     78   \n",
       "364   30    1025.3     19.2         17.3     15.2      13.3        78     86   \n",
       "365   31    1026.4     20.5         17.8     15.5      13.0        74     66   \n",
       "\n",
       "    rainfall  sunshine  winddirection  windspeed  \n",
       "0        yes       9.3           80.0       26.3  \n",
       "1        yes       0.6           50.0       15.3  \n",
       "2        yes       0.0           40.0       14.2  \n",
       "3        yes       1.0           50.0       16.9  \n",
       "4        yes       0.0           40.0       13.7  \n",
       "..       ...       ...            ...        ...  \n",
       "361      yes       0.0           30.0       18.4  \n",
       "362      yes       1.0           20.0       25.9  \n",
       "363      yes       4.6           70.0       33.4  \n",
       "364      yes       1.2           20.0       20.9  \n",
       "365       no       5.7           20.0       23.3  \n",
       "\n",
       "[366 rows x 12 columns]"
      ]
     },
     "execution_count": 3,
     "metadata": {},
     "output_type": "execute_result"
    }
   ],
   "source": [
    "dataset"
   ]
  },
  {
   "cell_type": "code",
   "execution_count": 7,
   "id": "3ecfea98-846d-4ea3-bf74-2def7953a9e0",
   "metadata": {},
   "outputs": [
    {
     "data": {
      "text/plain": [
       "day              0\n",
       "pressure         0\n",
       "maxtemp          0\n",
       "temparature      0\n",
       "mintemp          0\n",
       "dewpoint         0\n",
       "humidity         0\n",
       "cloud            0\n",
       "rainfall         0\n",
       "sunshine         0\n",
       "winddirection    0\n",
       "windspeed        0\n",
       "dtype: int64"
      ]
     },
     "execution_count": 7,
     "metadata": {},
     "output_type": "execute_result"
    }
   ],
   "source": [
    "dataset.isnull().sum()"
   ]
  },
  {
   "cell_type": "markdown",
   "id": "51757bc9-7cda-4783-a3b7-4c51fb524161",
   "metadata": {},
   "source": [
    "## Probability Density"
   ]
  },
  {
   "cell_type": "code",
   "execution_count": 18,
   "id": "1ce425a3-fbb4-4428-a3f8-84ec5c131193",
   "metadata": {},
   "outputs": [
    {
     "data": {
      "text/plain": [
       "<Axes: xlabel='humidity', ylabel='Density'>"
      ]
     },
     "execution_count": 18,
     "metadata": {},
     "output_type": "execute_result"
    },
    {
     "data": {
      "image/png": "[encoded data removed]",
      "text/plain": [
       "<Figure size 640x480 with 1 Axes>"
      ]
     },
     "metadata": {},
     "output_type": "display_data"
    }
   ],
   "source": [
    "sns.distplot(dataset[\"humidity\"])"
   ]
  },
  {
   "cell_type": "code",
   "execution_count": 20,
   "id": "cc1d7b91-6218-4fab-9f19-0f0aa38fb259",
   "metadata": {},
   "outputs": [],
   "source": [
    "def get_pdf_probability(dataset,startrange,endrange):\n",
    "    from matplotlib import pyplot\n",
    "    from scipy.stats import norm\n",
    "    import seaborn as sns\n",
    "    ax=sns.distplot(dataset,kde=True,kde_kws={'color':'blue'},color=\"Green\")\n",
    "    pyplot.axvline(startrange,color='Red')\n",
    "    pyplot.axvline(endrange,color='Red')\n",
    "    #Generate a sample\n",
    "    sample=dataset\n",
    "    # calculate parameters\n",
    "    sample_mean=sample.mean()\n",
    "    sample_std=sample.std()\n",
    "    print('Mean=%.3f,Standard Deviation=%.3f'% (sample_mean,sample_std))\n",
    "    # Define the Distribution\n",
    "    dist=norm(sample_mean,sample_std)\n",
    "    # sample probabilities for range of outcomes\n",
    "    values=[value for value in range(startrange,endrange)]\n",
    "    probabilities=[dist.pdf(value) for value in values]\n",
    "    prob=sum(probabilities)\n",
    "    print(\"The area between range({},{}):{}\".format(startrange,endrange,sum(probabilities)))\n",
    "    return prob"
   ]
  },
  {
   "cell_type": "code",
   "execution_count": 24,
   "id": "e55693b7-b64b-4d65-be89-290dd5384d52",
   "metadata": {},
   "outputs": [
    {
     "name": "stdout",
     "output_type": "stream",
     "text": [
      "Mean=80.178,Standard Deviation=10.062\n",
      "The area between range(80,90):0.34984882810323875\n"
     ]
    },
    {
     "data": {
      "text/plain": [
       "0.34984882810323875"
      ]
     },
     "execution_count": 24,
     "metadata": {},
     "output_type": "execute_result"
    },
    {
     "data": {
      "image/png": "[encoded data removed]",
      "text/plain": [
       "<Figure size 640x480 with 1 Axes>"
      ]
     },
     "metadata": {},
     "output_type": "display_data"
    }
   ],
   "source": [
    "get_pdf_probability(dataset[\"humidity\"],80,90)"
   ]
  },
  {
   "cell_type": "markdown",
   "id": "b198a133-ed53-414d-9847-1a6f63a63845",
   "metadata": {},
   "source": [
    "## Cumulative Distribution Function"
   ]
  },
  {
   "cell_type": "code",
   "execution_count": 27,
   "id": "374b0c5b-4373-4db6-88e5-0cc49dd2a899",
   "metadata": {},
   "outputs": [],
   "source": [
    "#! pip install statsmodels"
   ]
  },
  {
   "cell_type": "code",
   "execution_count": 29,
   "id": "bcdd03dd-eba2-4d71-9718-4ea6f6eeb62a",
   "metadata": {},
   "outputs": [
    {
     "data": {
      "text/plain": [
       "0.5"
      ]
     },
     "execution_count": 29,
     "metadata": {},
     "output_type": "execute_result"
    }
   ],
   "source": [
    "from statsmodels.distributions.empirical_distribution import ECDF\n",
    "ecdf=ECDF(dataset[\"humidity\"])\n",
    "ecdf(80)"
   ]
  },
  {
   "cell_type": "markdown",
   "id": "bea82046-7d34-491e-84e0-9cdab942c5f6",
   "metadata": {},
   "source": [
    "## Standard Normal Distribution"
   ]
  },
  {
   "cell_type": "code",
   "execution_count": 32,
   "id": "250ebd23-64cc-4ac2-b5b6-b8cffe84b7e6",
   "metadata": {},
   "outputs": [],
   "source": [
    "def stdNBgraph (dataset):\n",
    "    # Converted to standard normal distribution(z_score)\n",
    "    import seaborn as sns\n",
    "    mean=dataset.mean()\n",
    "    std=dataset.std()\n",
    "    values=[i for i in dataset]\n",
    "    z_score=(dataset-mean)/std \n",
    "    #plot standardized histogram with KDE\n",
    "    sns.histplot(z_score,kde=True,stat=\"density\",bins=50)\n",
    "    # Set correct X_axis range for standard normal distribution\n",
    "    plt.xlim(-3,3)\n",
    "    # show the plot\n",
    "    plt.show()"
   ]
  },
  {
   "cell_type": "code",
   "execution_count": 34,
   "id": "d83cec62-4f8d-4f82-867d-ee447a1fbec4",
   "metadata": {},
   "outputs": [
    {
     "data": {
      "image/png": "[encoded data removed]",
      "text/plain": [
       "<Figure size 640x480 with 1 Axes>"
      ]
     },
     "metadata": {},
     "output_type": "display_data"
    }
   ],
   "source": [
    "stdNBgraph (dataset[\"humidity\"])"
   ]
  },
  {
   "cell_type": "code",
   "execution_count": null,
   "id": "b2da120d-e4f5-46d1-809c-354a81e81d6d",
   "metadata": {},
   "outputs": [],
   "source": []
  }
 ],
 "metadata": {
  "kernelspec": {
   "display_name": "Python [conda env:base] *",
   "language": "python",
   "name": "conda-base-py"
  },
  "language_info": {
   "codemirror_mode": {
    "name": "ipython",
    "version": 3
   },
   "file_extension": ".py",
   "mimetype": "text/x-python",
   "name": "python",
   "nbconvert_exporter": "python",
   "pygments_lexer": "ipython3",
   "version": "3.12.7"
  }
 },
 "nbformat": 4,
 "nbformat_minor": 5
}
