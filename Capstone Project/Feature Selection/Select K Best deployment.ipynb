{
 "cells": [
  {
   "cell_type": "code",
   "execution_count": 1,
   "id": "ea8cbd8e-a8ea-42dc-b26c-85df96c63328",
   "metadata": {},
   "outputs": [],
   "source": [
    "import pickle"
   ]
  },
  {
   "cell_type": "code",
   "execution_count": 2,
   "id": "4295012e-a618-430a-bab4-cf503cf82f07",
   "metadata": {},
   "outputs": [],
   "source": [
    "filename=\"finalaized_model_RandomForestClassifier.sav\""
   ]
  },
  {
   "cell_type": "code",
   "execution_count": 3,
   "id": "b2ecb8c3-ffd6-4213-a881-6b07ddabd46a",
   "metadata": {},
   "outputs": [],
   "source": [
    "loaded_model=pickle.load(open(\"finalaized_model_RandomForestClassifier.sav\",'rb'))"
   ]
  },
  {
   "cell_type": "code",
   "execution_count": 4,
   "id": "b7c64f09-58ea-4961-a18b-9d49c23ff4b0",
   "metadata": {},
   "outputs": [],
   "source": [
    "result = loaded_model.predict([[11.0,34.2,25.0,45,67,88]])"
   ]
  },
  {
   "cell_type": "code",
   "execution_count": 5,
   "id": "d246507c-a661-4214-83dc-66203f3c5efe",
   "metadata": {},
   "outputs": [
    {
     "data": {
      "text/plain": [
       "array([1])"
      ]
     },
     "execution_count": 5,
     "metadata": {},
     "output_type": "execute_result"
    }
   ],
   "source": [
    "result"
   ]
  },
  {
   "cell_type": "code",
   "execution_count": null,
   "id": "7873b983-2c86-4127-a4ea-8aab6403d21d",
   "metadata": {},
   "outputs": [],
   "source": []
  }
 ],
 "metadata": {
  "kernelspec": {
   "display_name": "Python [conda env:base] *",
   "language": "python",
   "name": "conda-base-py"
  },
  "language_info": {
   "codemirror_mode": {
    "name": "ipython",
    "version": 3
   },
   "file_extension": ".py",
   "mimetype": "text/x-python",
   "name": "python",
   "nbconvert_exporter": "python",
   "pygments_lexer": "ipython3",
   "version": "3.12.7"
  }
 },
 "nbformat": 4,
 "nbformat_minor": 5
}
